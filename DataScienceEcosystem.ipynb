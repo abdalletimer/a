{
 "cells": [
  {
   "cell_type": "markdown",
   "id": "85165449-4926-44aa-8353-259bd22094ae",
   "metadata": {
    "tags": []
   },
   "source": [
    "DataScienceEcosystem"
   ]
  },
  {
   "cell_type": "markdown",
   "id": "79619e4e-1d57-4333-bc22-2af336014f24",
   "metadata": {},
   "source": [
    "in this notebook, we will summerize tools of data science and ecosystem"
   ]
  },
  {
   "cell_type": "markdown",
   "id": "bf2e944c-6055-49bf-90cd-2cfa45f86b12",
   "metadata": {
    "tags": []
   },
   "source": [
    "**objectives:**  \n",
    "*python*  \n",
    "*R*  \n",
    "*SQL*  "
   ]
  },
  {
   "cell_type": "markdown",
   "id": "4c17ab44-0d48-4d10-924c-6e3ba66525c3",
   "metadata": {},
   "source": [
    "popular languages of data science:  \n",
    "    1.python  \n",
    "    2.R  \n",
    "    3.SQL"
   ]
  },
  {
   "cell_type": "markdown",
   "id": "bbf5add9-9987-4c84-b617-23c4b6b128c2",
   "metadata": {},
   "source": [
    "commonly used data science libraries:  \n",
    "1.pandas  \n",
    "2.SciPy  \n",
    "3.NumPy\n"
   ]
  },
  {
   "cell_type": "markdown",
   "id": "47faec60-ee9a-486a-a9c4-ddaf6e650a8f",
   "metadata": {},
   "source": [
    "| Data science tools |\n",
    "| ------------------ |\n",
    "| Rstudio |\n",
    "| Apache spark |\n"
   ]
  },
  {
   "cell_type": "markdown",
   "id": "ee59e201-8b1e-4e88-acdb-09b4a08415ef",
   "metadata": {},
   "source": [
    "### below are few examples of evaluating arithmetic expressions in python"
   ]
  },
  {
   "cell_type": "markdown",
   "id": "8c17cff0-07b1-440c-8c07-556fa0b3dc1e",
   "metadata": {
    "tags": []
   },
   "source": [
    "this simple arithmetic expression to multiply then add integers"
   ]
  },
  {
   "cell_type": "code",
   "execution_count": 6,
   "id": "73761131-7d16-40d6-8105-5969cd913181",
   "metadata": {
    "tags": []
   },
   "outputs": [
    {
     "data": {
      "text/plain": [
       "17"
      ]
     },
     "execution_count": 6,
     "metadata": {},
     "output_type": "execute_result"
    }
   ],
   "source": [
    "(3*4)+5"
   ]
  },
  {
   "cell_type": "markdown",
   "id": "64635ee6-ec0b-443a-a891-a61b5465444f",
   "metadata": {},
   "source": [
    "this will convert 200 minuates to hours"
   ]
  },
  {
   "cell_type": "code",
   "execution_count": 7,
   "id": "27bf52eb-d3c8-47a0-8c60-9ddd1545e368",
   "metadata": {
    "tags": []
   },
   "outputs": [
    {
     "data": {
      "text/plain": [
       "16.666666666666668"
      ]
     },
     "execution_count": 7,
     "metadata": {},
     "output_type": "execute_result"
    }
   ],
   "source": [
    "200/12"
   ]
  },
  {
   "cell_type": "markdown",
   "id": "f4de75bf-86dd-4b88-97e5-c6f3f3d1e618",
   "metadata": {},
   "source": [
    "## auther\n",
    "abdulahi abdirashid said"
   ]
  },
  {
   "cell_type": "code",
   "execution_count": null,
   "id": "91fc07c6-1716-4d58-8a93-95c6e9f4a8c4",
   "metadata": {},
   "outputs": [],
   "source": []
  }
 ],
 "metadata": {
  "kernelspec": {
   "display_name": "Python",
   "language": "python",
   "name": "conda-env-python-py"
  },
  "language_info": {
   "codemirror_mode": {
    "name": "ipython",
    "version": 3
   },
   "file_extension": ".py",
   "mimetype": "text/x-python",
   "name": "python",
   "nbconvert_exporter": "python",
   "pygments_lexer": "ipython3",
   "version": "3.7.12"
  }
 },
 "nbformat": 4,
 "nbformat_minor": 5
}
